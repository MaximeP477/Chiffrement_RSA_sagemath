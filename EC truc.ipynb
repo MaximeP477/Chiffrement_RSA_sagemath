{
 "cells": [
  {
   "cell_type": "code",
   "execution_count": 364,
   "metadata": {},
   "outputs": [],
   "source": [
    "def test_primalite(n):\n",
    "    for i in range(2,int(n**(1/2))+1):\n",
    "        if n%2 == 0:\n",
    "            return False\n",
    "        elif n%i ==0 :\n",
    "            return False\n",
    "    return True\n",
    "\n",
    "def creation_q(bits):\n",
    "    q = randint(2**(bits-1),2**bits)\n",
    "    while test_primalite(q):\n",
    "        q = randint(2**64,2**65)\n",
    "    return q\n",
    "\n",
    "def test_copremier(a,b):\n",
    "    if xgcd(a,b)[0] == 1 :\n",
    "        return True\n",
    "    else :\n",
    "        return False\n",
    "    \n",
    "def creation_cle(p):\n",
    "    a = randint(p/2,p)\n",
    "    return a\n",
    "\n",
    "def double_add(P,d):\n",
    "    while d != 1 :\n",
    "        if d%2 == 0:\n",
    "            P = 2*P\n",
    "            d = int(d/2)\n",
    "        else : \n",
    "            P = P + P\n",
    "            d = d-1\n",
    "    return P\n",
    "\n",
    "def add(P,d):\n",
    "    while d != 1 :\n",
    "        P += P\n",
    "        d -= 1\n",
    "    return P\n"
   ]
  },
  {
   "cell_type": "code",
   "execution_count": 334,
   "metadata": {},
   "outputs": [
    {
     "name": "stdout",
     "output_type": "stream",
     "text": [
      "(46956808927535462313181035052425795299 : 76286053461877658130578545408719407963 : 1)\n",
      "(46956808927535462313181035052425795299 : 76286053461877658130578545408719407963 : 1)\n",
      "True\n"
     ]
    }
   ],
   "source": [
    "#EC Elgamal\n",
    "def crea_cle(coef,bits):\n",
    "    q = creation_q(bits)\n",
    "    F = Zmod(next_prime(q))\n",
    "    E = EllipticCurve(F,coef)\n",
    "    a = randint(1,next_prime(E.order()))\n",
    "    P = E.random_point()\n",
    "    A = double_add(P,a)\n",
    "    return (E,P,A),a\n",
    "\n",
    "def decrypt(sk,C):\n",
    "    return C[1] - double_add(C[0],sk)\n",
    "\n",
    "def encrypt(pk,M):\n",
    "    # pk = (E,P,A)\n",
    "    E,P,A = pk\n",
    "    k = randint(1,next_prime(E.order()))\n",
    "    c1 = double_add(P,k)\n",
    "    c2 = double_add(A,k) + M\n",
    "    return (c1,c2)\n",
    "    \n",
    "pk,sk = crea_cle([1,0],128)\n",
    "\n",
    "M = pk[0].random_point()\n",
    "print(M)\n",
    "C = encrypt(pk,M)\n",
    "M1 = decrypt(sk,C)\n",
    "print(M1)\n",
    "print(M == M1)\n"
   ]
  },
  {
   "cell_type": "code",
   "execution_count": 370,
   "metadata": {},
   "outputs": [
    {
     "data": {
      "image/png": "[encoded data removed]",
      "text/plain": [
       "<Figure size 432x288 with 1 Axes>"
      ]
     },
     "metadata": {
      "needs_background": "light"
     },
     "output_type": "display_data"
    }
   ],
   "source": [
    "#Comparaison addition et double_add\n",
    "import time\n",
    "import matplotlib.pyplot as plt\n",
    "\n",
    "P = E.random_point()\n",
    "L = [10**i for i in range (0,7)]\n",
    "delta1 = []\n",
    "delta2 = []\n",
    "for p in L :\n",
    "    t0 = time.time()\n",
    "    double_add(P,p)\n",
    "    delta1.append(time.time() - t0)\n",
    "    \n",
    "    t0 = time.time()\n",
    "    K = add(P,p)\n",
    "    delta2.append(time.time() - t0)\n",
    "\n",
    "plt.plot(L,delta1,'ro--',label = 'Double_add')\n",
    "plt.plot(L,delta2,'bo--',label = 'Naïf')\n",
    "plt.xscale('log')"
   ]
  },
  {
   "cell_type": "code",
   "execution_count": null,
   "metadata": {},
   "outputs": [],
   "source": []
  }
 ],
 "metadata": {
  "kernelspec": {
   "display_name": "SageMath 9.3",
   "language": "sage",
   "name": "sagemath"
  },
  "language_info": {
   "codemirror_mode": {
    "name": "ipython",
    "version": 3
   },
   "file_extension": ".py",
   "mimetype": "text/x-python",
   "name": "python",
   "nbconvert_exporter": "python",
   "pygments_lexer": "ipython3",
   "version": "3.9.2"
  }
 },
 "nbformat": 4,
 "nbformat_minor": 4
}

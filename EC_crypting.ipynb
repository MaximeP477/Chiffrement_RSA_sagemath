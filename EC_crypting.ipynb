{
 "cells": [
  {
   "cell_type": "code",
   "execution_count": 146,
   "metadata": {},
   "outputs": [],
   "source": [
    "def test_primalite(n):\n",
    "    for i in range(2,int(n**(1/2))+1):\n",
    "        if n%2 == 0:\n",
    "            return False\n",
    "        elif n%i ==0 :\n",
    "            return False\n",
    "    return True\n",
    "\n",
    "def creation_q(bits):\n",
    "    q = randint(2**(bits-1),2**bits)\n",
    "    while test_primalite(q):\n",
    "        q = randint(2**64,2**65)\n",
    "    return q\n",
    "\n",
    "def test_copremier(a,b):\n",
    "    if xgcd(a,b)[0] == 1 :\n",
    "        return True\n",
    "    else :\n",
    "        return False\n",
    "    \n",
    "def creation_cle(p):\n",
    "    a = randint(p/2,p)\n",
    "    return a\n",
    "\n",
    "def double_add(P,d):\n",
    "    while d != 1 :\n",
    "        if d%2 == 0:\n",
    "            P = 2*P\n",
    "            d = int(d/2)\n",
    "        else : \n",
    "            P = P + P\n",
    "            d = d-1\n",
    "    return P\n",
    "\n",
    "def add(P,d):\n",
    "    while d != 1 :\n",
    "        P += P\n",
    "        d -= 1\n",
    "    return P\n",
    "\n",
    "def point_gen(E):\n",
    "    n = E.order()\n",
    "    facteurs = factor(n)\n",
    "    L = []\n",
    "    for C in facteurs:\n",
    "        L.append(C[0])\n",
    "    r = max(L)\n",
    "    h = n//r\n",
    "    P = E.random_point()\n",
    "    G = h*P\n",
    "    return G,r\n"
   ]
  },
  {
   "cell_type": "code",
   "execution_count": 147,
   "metadata": {},
   "outputs": [
    {
     "name": "stdout",
     "output_type": "stream",
     "text": [
      "Premier : 15513488053871810061774529268296229831\n",
      "15513488053871810062770577470951525304\n",
      "Clé privée : 1146148632563622025257981585937\n",
      "(429013949491922682043811303245661932 : 15427248919078290310095037847241787521 : 1)\n",
      "(429013949491922682043811303245661932 : 15427248919078290310095037847241787521 : 1)\n",
      "True\n"
     ]
    }
   ],
   "source": [
    "#EC Elgamal\n",
    "def crea_cle(coef,p):\n",
    "    a,b = coef[0]%p,coef[1]%p\n",
    "    F = Zmod(p)\n",
    "    E = EllipticCurve(F,coef)\n",
    "    G,r = point_gen(E)\n",
    "    \n",
    "    d = randint(1,r-1)\n",
    "    Q = d*G\n",
    "    return (E,G,r,Q),d\n",
    "\n",
    "def decrypt(sk,C):\n",
    "    d = sk\n",
    "    return C[1] - d*C[0]\n",
    "\n",
    "def encrypt(pk,M):\n",
    "    E,G,r,Q = pk\n",
    "    k = randint(1,r-1)\n",
    "    c1 = k*G\n",
    "    c2 = k*Q + M\n",
    "    return (c1,c2)\n",
    "\n",
    "coef = [56,-47]\n",
    "p = next_prime(creation_q(124))\n",
    "print(f'Premier : {p}')\n",
    "pk,sk = crea_cle(coef,p)\n",
    "print(pk[0].order())\n",
    "print(f'Clé privée : {sk}')\n",
    "\n",
    "M = pk[0].random_point()\n",
    "print(M)\n",
    "C = encrypt(pk,M)\n",
    "M1 = decrypt(sk,C)\n",
    "print(M1)\n",
    "print(M == M1)\n"
   ]
  },
  {
   "cell_type": "code",
   "execution_count": 149,
   "metadata": {},
   "outputs": [
    {
     "name": "stdout",
     "output_type": "stream",
     "text": [
      "376537473147221132845780355399 376537473147221132845780355399\n",
      "True\n"
     ]
    }
   ],
   "source": [
    "def sign(pk,sk,m):\n",
    "    E,G,r,Q = pk\n",
    "    d = sk\n",
    "    k = randint(1,r-1)\n",
    "    R = k*G\n",
    "    b = (int(R.xy()[0]))%r\n",
    "    if b == 0 :\n",
    "        return sign(pk,sk,m)\n",
    "    inv_k = inverse_mod(k,int(r))\n",
    "    s = (inv_k*(m+d*b))%r\n",
    "    if s == 0 : \n",
    "        return sign(pk,sk,m)\n",
    "    if not (1<= b <r and 1<=s<r):\n",
    "        print('Pb dans la signature')\n",
    "        return False\n",
    "    return m,b,s\n",
    "\n",
    "def verify_sign(pk,m,b,s):\n",
    "    E,G,r,Q = pk\n",
    "    inv_s = inverse_mod(s,r)\n",
    "    u = (m*inv_s)%r\n",
    "    v = (b*inv_s)%r\n",
    "    print(b,int((u*G+v*Q)[0])%r)\n",
    "    return int(b) == int((u*G+v*Q)[0])%r\n",
    "\n",
    "m = 24768\n",
    "ma, b, s = sign(pk,sk,m)\n",
    "print(verify_sign(pk,ma,b,s))\n"
   ]
  },
  {
   "cell_type": "code",
   "execution_count": null,
   "metadata": {},
   "outputs": [],
   "source": []
  },
  {
   "cell_type": "code",
   "execution_count": null,
   "metadata": {},
   "outputs": [],
   "source": []
  }
 ],
 "metadata": {
  "kernelspec": {
   "display_name": "SageMath 10.6",
   "language": "sage",
   "name": "sagemath"
  },
  "language_info": {
   "codemirror_mode": {
    "name": "ipython",
    "version": 3
   },
   "file_extension": ".py",
   "mimetype": "text/x-python",
   "name": "python",
   "nbconvert_exporter": "python",
   "pygments_lexer": "ipython3",
   "version": "3.11.12"
  }
 },
 "nbformat": 4,
 "nbformat_minor": 4
}

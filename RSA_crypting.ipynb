{
 "cells": [
  {
   "cell_type": "code",
   "execution_count": 155,
   "metadata": {},
   "outputs": [],
   "source": [
    "import numpy as np\n",
    "import matplotlib.pyplot as plt\n",
    "import time\n",
    "\n",
    "def calcul_puissance_nul(x,d):\n",
    "    a=1\n",
    "    while d != 0 : \n",
    "        a = a*x\n",
    "        d -= 1\n",
    "    return a\n",
    "\n",
    "def calcul_puissance(x,d):\n",
    "    if d == 0 :\n",
    "        return 1\n",
    "    elif d == 1 : \n",
    "        return x\n",
    "    elif d%2== 0 :\n",
    "        x = calcul_puissance((x**2), d/2)\n",
    "    else : \n",
    "        v = calcul_puissance(x, d-1)\n",
    "        x = (v*x)\n",
    "    return x\n",
    "\n",
    "def exponentiation(x,d,n):\n",
    "    if d == 0 :\n",
    "        return 1\n",
    "    elif d == 1 : \n",
    "        return x%n\n",
    "    elif d%2== 0 :\n",
    "        x = exponentiation((x**2)%n, d/2,n)\n",
    "    else : \n",
    "        v = exponentiation(x%n, d-1,n)\n",
    "        x = (v*x)%n\n",
    "    return x\n",
    "    \n",
    "def chiffrement_dechiffrement(M,e,n):    \n",
    "    M_exp_e = exponentiation(M, e,n)\n",
    "    M_crypte = M_exp_e%n\n",
    "    return M_crypte\n",
    "\n",
    "def test_primalite(n):\n",
    "    for i in range(2,int(n**(1/2))+1):\n",
    "        if n%2 == 0:\n",
    "            return False\n",
    "        elif n%i ==0 :\n",
    "            return False\n",
    "    return True\n",
    "    \n",
    "def test_copremier(a,b):\n",
    "    if xgcd(a,b)[0] == 1 :\n",
    "        return True\n",
    "    else :\n",
    "        return False\n",
    "    \n",
    "def creation_couple(e,p,q):\n",
    "    \n",
    "    if not test_primalite(p) or not test_primalite(q):\n",
    "        print('p ou q nest pas premier !')\n",
    "        return None\n",
    "    \n",
    "    n = p*q\n",
    "    phi = euler_phi(n)\n",
    "    \n",
    "    if not test_copremier(e,phi):\n",
    "        print('e non copremier avec phi !')\n",
    "        return None\n",
    "    \n",
    "    d = inverse_mod(e,phi)\n",
    "    \n",
    "    return {\"public\" : (n,e), 'prive' : d}\n",
    "   \n",
    "def creation_premier(t):\n",
    "    a = randint(2**(t-1)-1,2**t)\n",
    "    return next_prime(a)\n",
    "\n",
    "def comparaison_calcul_puissance():\n",
    "    X = np.random.randint(500,1000)\n",
    "    D = np.array([3**i for i in range(1,12)])\n",
    "    delta1 = []\n",
    "    delta2 = []\n",
    "    for d in D :\n",
    "        t0 = time.time()\n",
    "        calcul_puissance(X, d)\n",
    "        delta1.append(time.time() - t0)\n",
    "        \n",
    "        t1 = time.time()\n",
    "        calcul_puissance_nul(X, d)\n",
    "        delta2.append(time.time() - t1)\n",
    "        \n",
    "    delta1 = np.array(delta1)\n",
    "    delta2 = np.array(delta2)\n",
    "    \n",
    "    plt.title('Temps de calcul en fonction de la puissance')\n",
    "    plt.plot(delta1,D,'ro--',label = 'Calcul puissance rapide (exponentiation)',)\n",
    "    plt.plot(delta2,D,'bo--', label = 'Calcul puissance lent')\n",
    "    plt.xlabel('Temps (en sec)')\n",
    "    plt.ylabel('Puissance')\n",
    "    plt.xscale('log')\n",
    "    plt.legend()\n",
    "    plt.show()\n",
    "    \n",
    "    return None\n",
    "\n",
    "def comparaison_cle_prive():\n",
    "    liste_bits = [16,20,24,28,32,36,40,44,48,52,56]\n",
    "    message = 123456789\n",
    "    delta = []\n",
    "    for bit in liste_bits :\n",
    "        p,q = creation_premier(bit),creation_premier(bit)\n",
    "        n = p*q\n",
    "        e = 65537\n",
    "        \n",
    "        t0 = time.time()\n",
    "        dico = creation_couple(e,p,q)\n",
    "        delta.append(time.time() - t0)\n",
    "    \n",
    "    plt.title('Temps de calcul de la clé privée en fonction du nombre de bits')\n",
    "    plt.plot(delta,liste_bits)\n",
    "    plt.xlabel('Temps (en sec)')\n",
    "    plt.ylabel('Puissance')\n",
    "    plt.xscale('log')\n",
    "    plt.show()\n",
    "    \n",
    "    return None\n",
    "    \n",
    "        "
   ]
  },
  {
   "cell_type": "code",
   "execution_count": 106,
   "metadata": {},
   "outputs": [
    {
     "data": {
      "image/png": "[encoded data removed]",
      "text/plain": [
       "<Figure size 432x288 with 1 Axes>"
      ]
     },
     "metadata": {
      "needs_background": "light"
     },
     "output_type": "display_data"
    }
   ],
   "source": [
    "comparaison_calcul_puissance()"
   ]
  },
  {
   "cell_type": "code",
   "execution_count": 144,
   "metadata": {},
   "outputs": [],
   "source": [
    "p,q = creation_premier(50),creation_premier(50)"
   ]
  },
  {
   "cell_type": "code",
   "execution_count": 145,
   "metadata": {},
   "outputs": [
    {
     "data": {
      "text/plain": [
       "342627481470646481045407160423"
      ]
     },
     "execution_count": 145,
     "metadata": {},
     "output_type": "execute_result"
    }
   ],
   "source": [
    "n = p*q\n",
    "n"
   ]
  },
  {
   "cell_type": "code",
   "execution_count": 146,
   "metadata": {},
   "outputs": [
    {
     "data": {
      "text/plain": [
       "True"
      ]
     },
     "execution_count": 146,
     "metadata": {},
     "output_type": "execute_result"
    }
   ],
   "source": [
    "test_copremier((p-1)*(q-1),65537)"
   ]
  },
  {
   "cell_type": "code",
   "execution_count": 147,
   "metadata": {},
   "outputs": [],
   "source": [
    "test_primalite(65537)\n",
    "e = 65537"
   ]
  },
  {
   "cell_type": "code",
   "execution_count": 148,
   "metadata": {},
   "outputs": [
    {
     "name": "stdout",
     "output_type": "stream",
     "text": [
      "{'public': (342627481470646481045407160423, 65537), 'prive': 317951318195831909001022151753}\n"
     ]
    }
   ],
   "source": [
    "dico = creation_couple(e,p,q)\n",
    "print(dico)"
   ]
  },
  {
   "cell_type": "code",
   "execution_count": 149,
   "metadata": {},
   "outputs": [
    {
     "name": "stdout",
     "output_type": "stream",
     "text": [
      "317951318195831909001022151753\n"
     ]
    }
   ],
   "source": [
    "d = dico['prive']\n",
    "print(d)"
   ]
  },
  {
   "cell_type": "code",
   "execution_count": 150,
   "metadata": {},
   "outputs": [
    {
     "name": "stdout",
     "output_type": "stream",
     "text": [
      "103739867102903778870672290202\n"
     ]
    }
   ],
   "source": [
    "m = chiffrement_dechiffrement(1112357,e,n)\n",
    "print(m)"
   ]
  },
  {
   "cell_type": "code",
   "execution_count": 151,
   "metadata": {},
   "outputs": [
    {
     "name": "stdout",
     "output_type": "stream",
     "text": [
      "1112357\n"
     ]
    }
   ],
   "source": [
    "x = chiffrement_dechiffrement(m,d,n)\n",
    "print(x)"
   ]
  },
  {
   "cell_type": "code",
   "execution_count": 152,
   "metadata": {},
   "outputs": [
    {
     "name": "stdout",
     "output_type": "stream",
     "text": [
      "94557599826327920647223455898\n",
      "11123\n"
     ]
    }
   ],
   "source": [
    "s = chiffrement_dechiffrement(11123,d,n)\n",
    "print(s)\n",
    "s_d = chiffrement_dechiffrement(s,e,n)\n",
    "print(s_d)"
   ]
  },
  {
   "cell_type": "code",
   "execution_count": null,
   "metadata": {},
   "outputs": [],
   "source": [
    "comparaison_cle_prive()"
   ]
  },
  {
   "cell_type": "code",
   "execution_count": null,
   "metadata": {},
   "outputs": [],
   "source": []
  }
 ],
 "metadata": {
  "kernelspec": {
   "display_name": "SageMath 9.3",
   "language": "sage",
   "name": "sagemath"
  },
  "language_info": {
   "codemirror_mode": {
    "name": "ipython",
    "version": 3
   },
   "file_extension": ".py",
   "mimetype": "text/x-python",
   "name": "python",
   "nbconvert_exporter": "python",
   "pygments_lexer": "ipython3",
   "version": "3.9.2"
  }
 },
 "nbformat": 4,
 "nbformat_minor": 4
}
